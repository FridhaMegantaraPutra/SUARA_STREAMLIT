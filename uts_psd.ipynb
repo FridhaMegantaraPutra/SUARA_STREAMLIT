{
 "cells": [
  {
   "cell_type": "code",
   "execution_count": 3,
   "id": "16c8cdd1",
   "metadata": {},
   "outputs": [],
   "source": [
    "# Cell 1: Importing necessary libraries\n",
    "import pickle\n",
    "from sklearn.model_selection import train_test_split\n",
    "from sklearn.preprocessing import StandardScaler\n",
    "import librosa\n",
    "import pandas as pd\n",
    "import numpy as np\n",
    "import scipy.stats as stats\n",
    "from scipy.stats import skew, kurtosis, mode\n",
    "from sklearn.decomposition import PCA\n",
    "from sklearn.preprocessing import MinMaxScaler\n",
    "import streamlit as st"
   ]
  },
  {
   "cell_type": "code",
   "execution_count": 4,
   "id": "458aa601",
   "metadata": {},
   "outputs": [
    {
     "name": "stderr",
     "output_type": "stream",
     "text": [
      "2023-10-12 13:24:30.195 \n",
      "  \u001b[33m\u001b[1mWarning:\u001b[0m to view this Streamlit app on a browser, run it with the following\n",
      "  command:\n",
      "\n",
      "    streamlit run C:\\Users\\asus\\AppData\\Roaming\\Python\\Python310\\site-packages\\ipykernel_launcher.py [ARGUMENTS]\n"
     ]
    }
   ],
   "source": [
    "\n",
    "st.header(\"Upload an Audio File\")\n",
    "uploaded_file = st.file_uploader(\n",
    "    \"Choose an audio file...\", type=[\"wav\", \"mp3\"])"
   ]
  },
  {
   "cell_type": "code",
   "execution_count": 5,
   "id": "2a1e7b9e",
   "metadata": {},
   "outputs": [],
   "source": [
    "# streamlit_app.py\n",
    "import streamlit as st\n",
    "\n",
    "def main():\n",
    "    st.title(\"My Streamlit App\")\n",
    "    st.write(\"This is a Streamlit app running in a Jupyter Notebook.\")\n",
    "\n",
    "if __name__ == '__main__':\n",
    "    main()\n"
   ]
  },
  {
   "cell_type": "code",
   "execution_count": 6,
   "id": "3668a09a",
   "metadata": {},
   "outputs": [
    {
     "ename": "ModuleNotFoundError",
     "evalue": "No module named 'streamlit_ipywidget'",
     "output_type": "error",
     "traceback": [
      "\u001b[1;31m---------------------------------------------------------------------------\u001b[0m",
      "\u001b[1;31mModuleNotFoundError\u001b[0m                       Traceback (most recent call last)",
      "Cell \u001b[1;32mIn[6], line 1\u001b[0m\n\u001b[1;32m----> 1\u001b[0m \u001b[38;5;28;01mfrom\u001b[39;00m \u001b[38;5;21;01mstreamlit_ipywidget\u001b[39;00m \u001b[38;5;28;01mimport\u001b[39;00m st_to_widget\n\u001b[0;32m      3\u001b[0m \u001b[38;5;66;03m# Import your Streamlit app\u001b[39;00m\n\u001b[0;32m      4\u001b[0m \u001b[38;5;28;01mfrom\u001b[39;00m \u001b[38;5;21;01mstreamlit_app\u001b[39;00m \u001b[38;5;28;01mimport\u001b[39;00m main\n",
      "\u001b[1;31mModuleNotFoundError\u001b[0m: No module named 'streamlit_ipywidget'"
     ]
    }
   ],
   "source": [
    "from streamlit_ipywidget import st_to_widget\n",
    "\n",
    "# Import your Streamlit app\n",
    "from streamlit_app import main\n",
    "\n",
    "# Convert the Streamlit app to an IPywidget\n",
    "st_to_widget(main)\n"
   ]
  },
  {
   "cell_type": "code",
   "execution_count": null,
   "id": "99ae64bd",
   "metadata": {},
   "outputs": [],
   "source": []
  }
 ],
 "metadata": {
  "kernelspec": {
   "display_name": "Python 3 (ipykernel)",
   "language": "python",
   "name": "python3"
  },
  "language_info": {
   "codemirror_mode": {
    "name": "ipython",
    "version": 3
   },
   "file_extension": ".py",
   "mimetype": "text/x-python",
   "name": "python",
   "nbconvert_exporter": "python",
   "pygments_lexer": "ipython3",
   "version": "3.10.9"
  }
 },
 "nbformat": 4,
 "nbformat_minor": 5
}
